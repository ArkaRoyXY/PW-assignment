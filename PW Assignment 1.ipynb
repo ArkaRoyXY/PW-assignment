{
 "cells": [
  {
   "cell_type": "markdown",
   "metadata": {},
   "source": [
    "1. What is Python ? Why is it Popular ?\n",
    "A. Python is an advanced programming language ,developed by Guido van Russom in the year of 1991\n",
    "   Python is popular because of its versatility, ease of use and readability, large community support and large library ecosystem.\n",
    "\n",
    "2. what is an interpreter in python ?\n",
    "A. An interpreter in Python is a program that reads and executes Python source code directly, converting it into an intermediate language and then executing it, or parsing the source code and performing the commands line by line\n",
    "\n",
    "3. What are pre-defined keywords in Python ?\n",
    "A. Pre-defined Keywords are those keywords reserved words that cannot be used\n",
    "as variable names, function names and Identifiers.\n",
    "    Example:- and, as, elif ,break ,class\n",
    "\n",
    "4. Can keywords be used as Variable names ?\n",
    "A. Keywords cannot be used as variable names because they are reserved words in python that have special meaning and purposes in the language.\n",
    "\n",
    "5. what is mutability in python ?\n",
    "A. Mutability is the ability of an object that can be modified or changed\n",
    "   after its creation\n",
    "\n",
    "6. Why are lists mutable but not tuples ?\n",
    "A. Tuples are more memory efficient than list  whereas lists provide\n",
    "   flexibility for situations where data modification is generally required.\n",
    "\n",
    "7. What are differences between \"==\" and \"is\" operator in python ?\n",
    "A. \"==\" operator compares the content of two objects whereas \"is\" operator is used to check if two variables point to the exact same object in the memory.\n",
    "\n",
    "8. what are logical operators in python?\n",
    "A. Logical operators are used to combine conditional statements and control flow of the code. Example :- and, or\n",
    "\n",
    "9. what is Type casting in Python ?\n",
    "A. Type casting , also known as type conversion, is a process in where the data type of a variable can be changed .\n",
    "\n",
    "10. What is the difference between Implicit and explicit type casting ?\n",
    "A. In explicit type casting, the programmer orders the compiler to convert  a value from one data type to another using functions like int(), float(),etc.\n",
    "   In implicit type casting, the compiler automatically converts one data type to another during an operation.\n",
    "\n",
    "11. what is the purpose of conditional statements in python ?\n",
    "A. Conditional statements enables the user to control the order in which the code executes. They allow the program to make choice based on different conditions. \n",
    "\n",
    "12. How does the elif statement work ?\n",
    "A. I. The if statement checks the first condition.\n",
    "   II. If the first condition is True, the code block associated with the if statement is executed, and the remaining elif and else blocks are skipped.\n",
    "   III. If the first condition is False, the elif statements are checked one by one, in the order they appear.\n",
    "   IV. If none of the if or elif conditions are True, the code block associated with the else statement (if present) is executed.\n",
    "\n",
    "13. What is the difference between for and while loops ?\n",
    "A.  The while loop is based on general condition, the iterations can be different and flexible for complex conditions . The for loop is based on a sequence where the number of iterations is usually known and more suitable for iterating over sequences.\n",
    "\n",
    "14. Describe a scenario where a while loop is more suitable than a for loop\n",
    "A. \n",
    "  while True:\n",
    "    try:\n",
    "        user_input = int(input(\"Enter a positive integer: \"))\n",
    "        if user_input > 0:\n",
    "            break  # Exit the loop if the input is valid\n",
    "        else:\n",
    "            print(\"Invalid input. Please enter a positive integer.\")\n",
    "    except ValueError:\n",
    "        print(\"Invalid input. Please enter an integer.\") \n",
    "\n",
    "print(\"You entered:\", user_input) "
   ]
  },
  {
   "cell_type": "code",
   "execution_count": null,
   "metadata": {},
   "outputs": [],
   "source": [
    "#1.WAP to print \"hello,World!\"\n",
    "print(\"hello,World!\")"
   ]
  },
  {
   "cell_type": "code",
   "execution_count": null,
   "metadata": {},
   "outputs": [],
   "source": [
    "#WAP to display your name and age.\n",
    "a= input(\" Your name ? \")\n",
    "b=int(input(\" Your Age ? \"))\n",
    "print (f\" My name is {a} & I am {b} years old \")\n"
   ]
  },
  {
   "cell_type": "code",
   "execution_count": null,
   "metadata": {},
   "outputs": [],
   "source": [
    "#WAP in python to print all pre-defined keywords using keyword library.\n",
    "\n",
    "import keyword\n",
    "keywords = keyword.kwlist\n",
    "print(\"Predefined keywords in Python:\")\n",
    "for kw in keywords:\n",
    "    print(kw)\n"
   ]
  },
  {
   "cell_type": "code",
   "execution_count": null,
   "metadata": {},
   "outputs": [],
   "source": [
    "#WAP to check if a given word is a python keyword\n",
    "\n",
    "import keyword\n",
    "\n",
    "def is_python_keyword(word):\n",
    "  return keyword.iskeyword(word)\n",
    "word = input(\"Enter a word: \")\n",
    "if is_python_keyword(word):\n",
    "  print(f\"'{word}' is a Python keyword.\")\n",
    "else:\n",
    "  print(f\"'{word}' is not a Python keyword.\")\n"
   ]
  },
  {
   "cell_type": "code",
   "execution_count": null,
   "metadata": {},
   "outputs": [],
   "source": [
    "# Create a list & a tuple in python, & demonstrate how attempting to change an element works differently for each\n",
    "\n",
    "my_list = [1, 2, 3, \"apple\", True]\n",
    "my_list[0] = 10\n",
    "print(\"Modified list:\", my_list)  \n",
    "my_tuple = (1, 2, 3, \"apple\", True)\n",
    "try:\n",
    "    my_tuple[0] = 10\n",
    "except TypeError:\n",
    "    print(\"Tuples are immutable. Cannot change elements.\")"
   ]
  },
  {
   "cell_type": "code",
   "execution_count": null,
   "metadata": {},
   "outputs": [],
   "source": [
    " #WAP to demonstrate the behavior of mutable & immutable arguments.\n",
    "\n",
    "def modify_list(my_list):\n",
    "    \n",
    "    my_list.append(4)  \n",
    "\n",
    "def modify_tuple(my_tuple):\n",
    "    \n",
    "    try:\n",
    "        my_tuple[0] = 10  \n",
    "    except TypeError:\n",
    "        print(\"Tuples are immutable. Cannot change elements.\")\n",
    "my_list = [1, 2, 3]\n",
    "my_tuple = (1, 2, 3)\n",
    "modify_list(my_list)\n",
    "modify_tuple(my_tuple)\n",
    "print(\"Modified list:\", my_list)  \n",
    "print(\"Modified tuple:\", my_tuple) "
   ]
  },
  {
   "cell_type": "code",
   "execution_count": null,
   "metadata": {},
   "outputs": [],
   "source": [
    "#WAP to demonstrate use of logical operators.\n",
    "\n",
    "def check_eligibility(age, has_drivers_license, is_student):\n",
    "  if age >= 18 and has_drivers_license:\n",
    "    return \"Eligible to rent a car.\"\n",
    "  elif age < 18 or not has_drivers_license:\n",
    "    return \"Cannot drive legally.\"\n",
    "  elif is_student:\n",
    "    return \"Eligible for student discounts (if applicable).\"\n",
    "  else:\n",
    "    return \"No specific eligibility criteria met.\"\n",
    "age = int(input(\"Enter your age: \"))\n",
    "has_drivers_license = input(\"Do you have a driver's license? (yes/no): \").lower() == \"yes\"\n",
    "is_student = input(\"Are you a student? (yes/no): \").lower() == \"yes\"\n",
    "eligibility = check_eligibility(age, has_drivers_license, is_student)\n",
    "print(eligibility)\n"
   ]
  },
  {
   "cell_type": "code",
   "execution_count": null,
   "metadata": {},
   "outputs": [],
   "source": [
    "#WAP to convert user input from string to int, float & Boolean types.\n",
    "\n",
    "user_input = input(\"Enter a value: \")\n",
    "try:\n",
    "    int_value = int(user_input)\n",
    "    print(f\"Integer value: {int_value}\")\n",
    "except ValueError:\n",
    "    print(\"Cannot convert to integer.\")\n",
    "try:\n",
    "    float_value = float(user_input)\n",
    "    print(f\"Float value: {float_value}\")\n",
    "except ValueError:\n",
    "    print(\"Cannot convert to float.\")\n",
    "boolean_value = bool(user_input.strip())\n",
    "print(f\"Boolean value: {boolean_value}\")"
   ]
  },
  {
   "cell_type": "code",
   "execution_count": null,
   "metadata": {},
   "outputs": [],
   "source": [
    "#WAP to demonstrate typecasting with list elements\n",
    "\n",
    "\n",
    "data_list = [\"123\", \"45.67\", \"True\", \"False\", \"hello\"]\n",
    "for element in data_list:\n",
    "    print(f\"Original: {element} (type: {type(element)})\")\n",
    "    \n",
    "    try:\n",
    "        int_value = int(element)\n",
    "        print(f\"Integer: {int_value}\")\n",
    "    except ValueError:\n",
    "        print(\"Cannot convert to Integer.\")\n",
    "    \n",
    "    \n",
    "    try:\n",
    "        float_value = float(element)\n",
    "        print(f\"Float: {float_value}\")\n",
    "    except ValueError:\n",
    "        print(\"Cannot convert to Float.\")\n",
    "    \n",
    "  \n",
    "    try:\n",
    "        bool_value = bool(element.strip())\n",
    "        print(f\"Boolean: {bool_value}\")\n",
    "    except Exception as e:\n",
    "        print(f\"Cannot convert to Boolean. Error: {e}\")\n",
    "    \n",
    "    print(\"-\" * 40)  "
   ]
  },
  {
   "cell_type": "code",
   "execution_count": null,
   "metadata": {},
   "outputs": [],
   "source": [
    " #WAP to check if a number is positive , negative or zero.\n",
    "\n",
    "\n",
    "number = float(input(\"Enter a number: \"))\n",
    "\n",
    "if number > 0:\n",
    "    print(f\"The number {number} is positive.\")\n",
    "elif number < 0:\n",
    "    print(f\"The number {number} is negative.\")\n",
    "else:\n",
    "    print(\"The number is zero.\")\n",
    "\n"
   ]
  },
  {
   "cell_type": "code",
   "execution_count": null,
   "metadata": {},
   "outputs": [],
   "source": [
    "#Write a for-loop to print number from 1 to 10\n",
    "\n",
    "for i in range (1,11)\n",
    "print(i)"
   ]
  },
  {
   "cell_type": "code",
   "execution_count": null,
   "metadata": {},
   "outputs": [],
   "source": [
    "#WAP to find the sum of all even numbers between 1 to 50.\n",
    "\n",
    "sum = 0\n",
    "num = 2\n",
    "while num <= 50:\n",
    "    sum += num\n",
    "    num += 2\n",
    "print(\"The sum of all even numbers between 1 to 50 is:\", sum)\n",
    "\n"
   ]
  },
  {
   "cell_type": "code",
   "execution_count": null,
   "metadata": {},
   "outputs": [],
   "source": [
    "#WAP to reverse string using while loop\n",
    "\n",
    "\n",
    "input_string = input(\"Enter a string: \")\n",
    "\n",
    "reversed_string = \"\"\n",
    "\n",
    "for char in input_string:\n",
    "    reversed_string = char + reversed_string\n",
    "\n",
    "\n",
    "print(f\"Reversed string: {reversed_string}\")\n",
    "\n"
   ]
  },
  {
   "cell_type": "code",
   "execution_count": null,
   "metadata": {},
   "outputs": [],
   "source": [
    "#WAP to find factorial of a number provided by user using for loop\n",
    "\n",
    "\n",
    "number = int(input(\"Enter a number to find its factorial: \"))\n",
    "factorial = 1\n",
    "if number < 0:\n",
    "    print(\"Factorial is not defined for negative numbers.\")\n",
    "else:\n",
    "    \n",
    "    for i in range(1, number + 1):\n",
    "        factorial *= i\n",
    "    print(f\"The factorial of {number} is {factorial}.\")\n"
   ]
  }
 ],
 "metadata": {
  "kernelspec": {
   "display_name": "Python 3",
   "language": "python",
   "name": "python3"
  },
  "language_info": {
   "codemirror_mode": {
    "name": "ipython",
    "version": 3
   },
   "file_extension": ".py",
   "mimetype": "text/x-python",
   "name": "python",
   "nbconvert_exporter": "python",
   "pygments_lexer": "ipython3",
   "version": "3.13.1"
  }
 },
 "nbformat": 4,
 "nbformat_minor": 2
}
